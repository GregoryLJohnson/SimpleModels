{
 "cells": [
  {
   "cell_type": "code",
   "execution_count": 7,
   "metadata": {},
   "outputs": [
    {
     "name": "stdout",
     "output_type": "stream",
     "text": [
      "Simulation complete. GIF saved as 'potts_simulation.gif'.\n"
     ]
    },
    {
     "data": {
      "image/png": "[encoded data removed]",
      "text/plain": [
       "<Figure size 640x480 with 1 Axes>"
      ]
     },
     "metadata": {},
     "output_type": "display_data"
    }
   ],
   "source": [
    "import numpy as np\n",
    "import matplotlib.pyplot as plt\n",
    "from matplotlib.animation import FuncAnimation, PillowWriter\n",
    "\n",
    "def initialize_lattice(L, q):\n",
    "    \"\"\"\n",
    "    Initialize a 2D lattice with random states from 0 to q-1.\n",
    "    \"\"\"\n",
    "    return np.random.randint(0, q, size=(L, L))\n",
    "\n",
    "def delta_energy(lattice, x, y, q):\n",
    "    \"\"\"\n",
    "    Compute the change in energy for flipping the state at site (x, y).\n",
    "    \"\"\"\n",
    "    L = lattice.shape[0]\n",
    "    current_state = lattice[x, y]\n",
    "    \n",
    "    # Propose a new state different from the current one\n",
    "    proposed_state = np.random.choice([s for s in range(q) if s != current_state])\n",
    "    \n",
    "    # Calculate energy contribution from neighbors\n",
    "    neighbors = [\n",
    "        lattice[(x - 1) % L, y],  # Top neighbor\n",
    "        lattice[(x + 1) % L, y],  # Bottom neighbor\n",
    "        lattice[x, (y - 1) % L],  # Left neighbor\n",
    "        lattice[x, (y + 1) % L],  # Right neighbor\n",
    "    ]\n",
    "    \n",
    "    current_energy = -sum(1 if n == current_state else 0 for n in neighbors)\n",
    "    proposed_energy = -sum(1 if n == proposed_state else 0 for n in neighbors)\n",
    "    \n",
    "    delta_E = proposed_energy - current_energy\n",
    "    \n",
    "    return delta_E, proposed_state\n",
    "\n",
    "def monte_carlo_step(lattice, q, beta):\n",
    "    \"\"\"\n",
    "    Perform one Monte Carlo step using the Metropolis algorithm.\n",
    "    \"\"\"\n",
    "    L = lattice.shape[0]\n",
    "    \n",
    "    for _ in range(L * L):  # Attempt to update each site once on average\n",
    "        x = np.random.randint(0, L)\n",
    "        y = np.random.randint(0, L)\n",
    "        \n",
    "        delta_E, proposed_state = delta_energy(lattice, x, y, q)\n",
    "        \n",
    "        # Metropolis acceptance criterion\n",
    "        if delta_E < 0 or np.random.rand() < np.exp(-beta * delta_E):\n",
    "            lattice[x, y] = proposed_state\n",
    "\n",
    "def simulate_potts_gif(L=20, q=3, beta=0.5, steps=1000, gif_filename=\"potts_simulation.gif\"):\n",
    "    \"\"\"\n",
    "    Simulate the Potts model on a 2D square lattice and save a GIF of the configurations.\n",
    "    \n",
    "    Parameters:\n",
    "        L (int): Linear size of the lattice (LxL).\n",
    "        q (int): Number of possible states per site.\n",
    "        beta (float): Inverse temperature (1/kT).\n",
    "        steps (int): Number of Monte Carlo steps to perform.\n",
    "        gif_filename (str): Filename for the output GIF.\n",
    "        \n",
    "    Returns:\n",
    "        None: Saves the GIF to disk.\n",
    "    \"\"\"\n",
    "    lattice = initialize_lattice(L, q)\n",
    "    \n",
    "    # Set up figure for animation\n",
    "    fig, ax = plt.subplots()\n",
    "    cmap = plt.get_cmap(\"tab20\", q)  # Use a colormap with `q` discrete colors\n",
    "    im = ax.imshow(lattice, cmap=cmap, interpolation=\"nearest\")\n",
    "    \n",
    "    def update(frame):\n",
    "        \"\"\"\n",
    "        Update function for animation.\n",
    "        \"\"\"\n",
    "        monte_carlo_step(lattice, q, beta)\n",
    "        im.set_array(lattice)\n",
    "        ax.set_title(f\"Step {frame + 1}\")\n",
    "        return [im]\n",
    "    \n",
    "    # Create animation\n",
    "    anim = FuncAnimation(fig, update, frames=steps, interval=50, blit=True)\n",
    "    \n",
    "    # Save animation as GIF\n",
    "    writer = PillowWriter(fps=20)\n",
    "    anim.save(gif_filename, writer=writer)\n",
    "    \n",
    "    print(f\"Simulation complete. GIF saved as '{gif_filename}'.\")\n",
    "\n",
    "# Simulation parameters\n",
    "L = 100          # Lattice size\n",
    "q = 5           # Number of states\n",
    "beta = 2    # Inverse temperature\n",
    "steps = 500     # Number of Monte Carlo steps\n",
    "\n",
    "# Run simulation and save as GIF\n",
    "simulate_potts_gif(L=L, q=q, beta=beta, steps=steps)\n"
   ]
  },
  {
   "cell_type": "code",
   "execution_count": null,
   "metadata": {},
   "outputs": [],
   "source": []
  }
 ],
 "metadata": {
  "kernelspec": {
   "display_name": "standard_ml_pytorch",
   "language": "python",
   "name": "python3"
  },
  "language_info": {
   "codemirror_mode": {
    "name": "ipython",
    "version": 3
   },
   "file_extension": ".py",
   "mimetype": "text/x-python",
   "name": "python",
   "nbconvert_exporter": "python",
   "pygments_lexer": "ipython3",
   "version": "3.11.8"
  }
 },
 "nbformat": 4,
 "nbformat_minor": 2
}
