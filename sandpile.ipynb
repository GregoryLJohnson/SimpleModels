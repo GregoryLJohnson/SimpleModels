{
 "cells": [
  {
   "cell_type": "code",
   "execution_count": null,
   "metadata": {},
   "outputs": [],
   "source": [
    "%matplotlib inline\n",
    "%config InlineBackend.figure_format = 'retina'\n",
    "\n",
    "# Enable interactive plot\n",
    "%matplotlib notebook\n",
    "%matplotlib notebook"
   ]
  },
  {
   "cell_type": "code",
   "execution_count": 1,
   "metadata": {},
   "outputs": [
    {
     "ename": "",
     "evalue": "",
     "output_type": "error",
     "traceback": [
      "\u001b[1;31mThe Kernel crashed while executing code in the current cell or a previous cell. \n",
      "\u001b[1;31mPlease review the code in the cell(s) to identify a possible cause of the failure. \n",
      "\u001b[1;31mClick <a href='https://aka.ms/vscodeJupyterKernelCrash'>here</a> for more info. \n",
      "\u001b[1;31mView Jupyter <a href='command:jupyter.viewOutput'>log</a> for further details."
     ]
    }
   ],
   "source": [
    "import numpy as np\n",
    "import matplotlib.pyplot as plt\n",
    "from matplotlib.animation import FuncAnimation\n",
    "import matplotlib.animation as animation\n",
    "\n",
    "class SandpileModel:\n",
    "    def __init__(self, size=50, initial_grains=0):\n",
    "        self.size = size\n",
    "        self.grid = np.zeros((size, size), dtype=int)\n",
    "\n",
    "    def add_sand(self, x, y, amount=1):\n",
    "        self.grid[y, x] += amount\n",
    "\n",
    "    def topple(self):\n",
    "        while np.any(self.grid >= 4):\n",
    "            unstable = self.grid >= 4\n",
    "            self.grid[unstable] -= 4\n",
    "\n",
    "            # Distribute to neighbors\n",
    "            self.grid[:-1, :][unstable[1:, :]] += 1  # Up\n",
    "            self.grid[1:, :][unstable[:-1, :]] += 1  # Down\n",
    "            self.grid[:, :-1][unstable[:, 1:]] += 1  # Left\n",
    "            self.grid[:, 1:][unstable[:, :-1]] += 1  # Right\n",
    "\n",
    "    def run_simulation(self, num_frames=200):\n",
    "        fig, ax = plt.subplots()\n",
    "        im = ax.imshow(self.grid, cmap='hot', interpolation='nearest', vmin=0, vmax=4)\n",
    "        plt.colorbar(im, label='Number of sand grains')\n",
    "        plt.title('Sandpile Model Simulation')\n",
    "        \n",
    "        def update(frame):\n",
    "            self.add_sand(self.size // 2, self.size // 2, 1)\n",
    "            self.topple()\n",
    "            im.set_array(self.grid)\n",
    "            return im,\n",
    "\n",
    "        anim = FuncAnimation(fig, update, frames=num_frames, interval=50, repeat = False)\n",
    "        \n",
    "        # Save the animation\n",
    "        anim.save('sandpile_animation.gif', writer='pillow')\n",
    "        \n",
    "        plt.close(fig)  # Close the figure to prevent display in notebooks\n",
    "        \n",
    "# Create and run the simulation\n",
    "sandpile = SandpileModel(size=100)\n",
    "sandpile.run_simulation(num_frames=10**5)"
   ]
  },
  {
   "cell_type": "code",
   "execution_count": null,
   "metadata": {},
   "outputs": [],
   "source": []
  }
 ],
 "metadata": {
  "kernelspec": {
   "display_name": "base",
   "language": "python",
   "name": "python3"
  },
  "language_info": {
   "codemirror_mode": {
    "name": "ipython",
    "version": 3
   },
   "file_extension": ".py",
   "mimetype": "text/x-python",
   "name": "python",
   "nbconvert_exporter": "python",
   "pygments_lexer": "ipython3",
   "version": "3.11.5"
  }
 },
 "nbformat": 4,
 "nbformat_minor": 2
}
